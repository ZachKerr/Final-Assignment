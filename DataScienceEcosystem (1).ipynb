{
  "metadata": {
    "language_info": {
      "codemirror_mode": {
        "name": "python",
        "version": 3
      },
      "file_extension": ".py",
      "mimetype": "text/x-python",
      "name": "python",
      "nbconvert_exporter": "python",
      "pygments_lexer": "ipython3",
      "version": "3.8"
    },
    "kernelspec": {
      "name": "python",
      "display_name": "Python (Pyodide)",
      "language": "python"
    }
  },
  "nbformat_minor": 4,
  "nbformat": 4,
  "cells": [
    {
      "cell_type": "markdown",
      "source": "# Data Science Tools and Ecosystem\n",
      "metadata": {}
    },
    {
      "cell_type": "markdown",
      "source": "In this notebook, Data Science Tools and Ecosystem are summarized.",
      "metadata": {}
    },
    {
      "cell_type": "markdown",
      "source": "Some of the commonly used libraries used by Data Scientists include: Numpy, Scikit-learn, and SciPy",
      "metadata": {}
    },
    {
      "cell_type": "markdown",
      "source": "Some of the commonly used languages used by Data Scientists include: Python, R, and SQL",
      "metadata": {}
    },
    {
      "cell_type": "markdown",
      "source": "Data Science Tools\nJupyter Notebooks\nRStudio\nVS Code",
      "metadata": {}
    },
    {
      "cell_type": "markdown",
      "source": "# Below are a few examples of evaluting arithmetic expressions in Python:\n",
      "metadata": {}
    },
    {
      "cell_type": "code",
      "source": "# This is a simple arithmetic expression to multiply then add integers\n(3*4)+5\n",
      "metadata": {
        "trusted": true
      },
      "execution_count": 2,
      "outputs": [
        {
          "execution_count": 2,
          "output_type": "execute_result",
          "data": {
            "text/plain": "17"
          },
          "metadata": {}
        }
      ]
    },
    {
      "cell_type": "code",
      "source": "# This will convert 200 minutes to hours by dividing it by 60\nminutes = 200\nhours = minutes / 60\nprint(hours)",
      "metadata": {
        "trusted": true
      },
      "execution_count": 4,
      "outputs": [
        {
          "name": "stdout",
          "text": "3.3333333333333335\n",
          "output_type": "stream"
        }
      ]
    },
    {
      "cell_type": "markdown",
      "source": "# OBJECTIVES: \nList popular languages for Data Science\nList popular libraries for Data Science\nConverting 200 minutes to hours ",
      "metadata": {}
    },
    {
      "cell_type": "markdown",
      "source": "Author:\nZachary Kerr",
      "metadata": {}
    }
  ]
}